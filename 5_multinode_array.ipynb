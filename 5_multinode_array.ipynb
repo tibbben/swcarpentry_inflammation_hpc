{
 "cells": [
  {
   "cell_type": "markdown",
   "metadata": {},
   "source": [
    "# Array multinode\n",
    "\n",
    "In this last notebook we are using several processes to load data in memory but then we are building a single distributed matrix, we can operate on it using methods or even slicing like if it were a `numpy` array, `dask` will take care of managing all the process to process communication for us.\n",
    "\n",
    "Here we are using `dask-distributed` so we could run on many different nodes."
   ]
  },
  {
   "cell_type": "code",
   "execution_count": 1,
   "metadata": {},
   "outputs": [],
   "source": [
    "def load_file(filename):\n",
    "    import numpy\n",
    "    data = numpy.loadtxt(fname=filename, delimiter=',')\n",
    "    return data"
   ]
  },
  {
   "cell_type": "code",
   "execution_count": 2,
   "metadata": {},
   "outputs": [],
   "source": [
    "import glob\n",
    "import os\n",
    "filenames = glob.glob(\"inflammation-*.csv\")\n",
    "for i in range(len(filenames)):\n",
    "    filenames[i] = os.getcwd() + '/' + filenames[i]"
   ]
  },
  {
   "cell_type": "code",
   "execution_count": 3,
   "metadata": {},
   "outputs": [],
   "source": [
    "from distributed import Client"
   ]
  },
  {
   "cell_type": "code",
   "execution_count": 4,
   "metadata": {},
   "outputs": [],
   "source": [
    "executor = Client('127.0.0.1:8786')"
   ]
  },
  {
   "cell_type": "code",
   "execution_count": 5,
   "metadata": {},
   "outputs": [],
   "source": [
    "data_futures = executor.map(load_file, filenames)"
   ]
  },
  {
   "cell_type": "code",
   "execution_count": 6,
   "metadata": {},
   "outputs": [
    {
     "data": {
      "text/plain": [
       "[<Future: finished, type: numpy.ndarray, key: load_file-a19c44bb02b27270fa99fd11a071f4a5>,\n",
       " <Future: finished, type: numpy.ndarray, key: load_file-9c09133f6a2da4a40ce76db8e7644380>,\n",
       " <Future: finished, type: numpy.ndarray, key: load_file-beb322c8b45abed16d16bc2a68d4d9ea>,\n",
       " <Future: finished, type: numpy.ndarray, key: load_file-4cc911d587b46c089616c499e97279a7>,\n",
       " <Future: finished, type: numpy.ndarray, key: load_file-6b5870afd97a0ec3f9d51229797aac4e>,\n",
       " <Future: finished, type: numpy.ndarray, key: load_file-e9cda123646c2160b3a0aad7c192badf>,\n",
       " <Future: finished, type: numpy.ndarray, key: load_file-a34c99b29af4fa7bb902fc7fe37a0f14>,\n",
       " <Future: finished, type: numpy.ndarray, key: load_file-0f945183316fd7ed56d6591db5428db6>,\n",
       " <Future: finished, type: numpy.ndarray, key: load_file-6797091973318b87b95aece140893aba>,\n",
       " <Future: finished, type: numpy.ndarray, key: load_file-74e0e833e424630623b061b5609fd82c>,\n",
       " <Future: finished, type: numpy.ndarray, key: load_file-e9f459c9b7f3526c94d94e3342693e38>,\n",
       " <Future: finished, type: numpy.ndarray, key: load_file-0357fbd7f8fb5cc266c705448b2b71c5>]"
      ]
     },
     "execution_count": 6,
     "metadata": {},
     "output_type": "execute_result"
    }
   ],
   "source": [
    "data_futures"
   ]
  },
  {
   "cell_type": "code",
   "execution_count": 7,
   "metadata": {},
   "outputs": [
    {
     "data": {
      "text/plain": [
       "2400"
      ]
     },
     "execution_count": 7,
     "metadata": {},
     "output_type": "execute_result"
    }
   ],
   "source": [
    "data_futures[0].result().size"
   ]
  },
  {
   "cell_type": "code",
   "execution_count": 8,
   "metadata": {},
   "outputs": [],
   "source": [
    "import dask.array as da\n",
    "# many small dask arrays\n",
    "distributed_dask_arrays = [da.from_delayed(future,(60,40),\"float64\") for future in data_futures]\n",
    "# one large dask array, joined by time\n",
    "all_distributed_data = da.concatenate(distributed_dask_arrays, axis=0)"
   ]
  },
  {
   "cell_type": "code",
   "execution_count": 9,
   "metadata": {},
   "outputs": [
    {
     "data": {
      "text/plain": [
       "(720, 40)"
      ]
     },
     "execution_count": 9,
     "metadata": {},
     "output_type": "execute_result"
    }
   ],
   "source": [
    "all_distributed_data.shape"
   ]
  },
  {
   "cell_type": "code",
   "execution_count": 10,
   "metadata": {},
   "outputs": [
    {
     "data": {
      "text/plain": [
       "20.0"
      ]
     },
     "execution_count": 10,
     "metadata": {},
     "output_type": "execute_result"
    }
   ],
   "source": [
    "all_distributed_data.max().compute()"
   ]
  },
  {
   "cell_type": "code",
   "execution_count": 11,
   "metadata": {},
   "outputs": [
    {
     "data": {
      "text/plain": [
       "[20.0, 1.0]"
      ]
     },
     "execution_count": 11,
     "metadata": {},
     "output_type": "execute_result"
    }
   ],
   "source": [
    "executor.compute([all_distributed_data.max(), all_distributed_data[:,1].max()], sync=True)"
   ]
  },
  {
   "cell_type": "code",
   "execution_count": null,
   "metadata": {},
   "outputs": [],
   "source": []
  },
  {
   "cell_type": "code",
   "execution_count": null,
   "metadata": {},
   "outputs": [],
   "source": []
  }
 ],
 "metadata": {
  "anaconda-cloud": {},
  "kernelspec": {
   "display_name": "base",
   "language": "python",
   "name": "base"
  },
  "language_info": {
   "codemirror_mode": {
    "name": "ipython",
    "version": 3
   },
   "file_extension": ".py",
   "mimetype": "text/x-python",
   "name": "python",
   "nbconvert_exporter": "python",
   "pygments_lexer": "ipython3",
   "version": "3.6.10"
  }
 },
 "nbformat": 4,
 "nbformat_minor": 1
}
